{
 "cells": [
  {
   "cell_type": "markdown",
   "metadata": {},
   "source": [
    "# loc, iloc and ix"
   ]
  },
  {
   "cell_type": "markdown",
   "metadata": {},
   "source": [
    "There are 3 ways to select data from dataframe loc,iloc and ix"
   ]
  },
  {
   "cell_type": "code",
   "execution_count": 1,
   "metadata": {},
   "outputs": [],
   "source": [
    "import pandas as pd"
   ]
  },
  {
   "cell_type": "code",
   "execution_count": 2,
   "metadata": {},
   "outputs": [],
   "source": [
    "xlxs_path='C:/Users/500060783/Desktop/ECELL/Budget/SHECON_Payment_list.xlsx'"
   ]
  },
  {
   "cell_type": "code",
   "execution_count": 3,
   "metadata": {},
   "outputs": [],
   "source": [
    "df=pd.read_excel(xlxs_path)"
   ]
  },
  {
   "cell_type": "code",
   "execution_count": 4,
   "metadata": {},
   "outputs": [
    {
     "data": {
      "text/html": [
       "<div>\n",
       "<style scoped>\n",
       "    .dataframe tbody tr th:only-of-type {\n",
       "        vertical-align: middle;\n",
       "    }\n",
       "\n",
       "    .dataframe tbody tr th {\n",
       "        vertical-align: top;\n",
       "    }\n",
       "\n",
       "    .dataframe thead th {\n",
       "        text-align: right;\n",
       "    }\n",
       "</style>\n",
       "<table border=\"1\" class=\"dataframe\">\n",
       "  <thead>\n",
       "    <tr style=\"text-align: right;\">\n",
       "      <th></th>\n",
       "      <th>S.No.</th>\n",
       "      <th>Holder Name</th>\n",
       "      <th>SAPID</th>\n",
       "      <th>Bank Name</th>\n",
       "      <th>IFSC code</th>\n",
       "      <th>Account No.</th>\n",
       "      <th>Phone No.</th>\n",
       "      <th>Amount (Rs.)</th>\n",
       "    </tr>\n",
       "  </thead>\n",
       "  <tbody>\n",
       "    <tr>\n",
       "      <th>0</th>\n",
       "      <td>1.0</td>\n",
       "      <td>PIYUSH PRAJAPATI</td>\n",
       "      <td>500069787</td>\n",
       "      <td>Bank of Baroda</td>\n",
       "      <td>BARB0SHACOL</td>\n",
       "      <td>5.179010e+13</td>\n",
       "      <td>9.968996e+09</td>\n",
       "      <td>3000</td>\n",
       "    </tr>\n",
       "    <tr>\n",
       "      <th>1</th>\n",
       "      <td>2.0</td>\n",
       "      <td>LOVE SHARMA</td>\n",
       "      <td>500076077</td>\n",
       "      <td>Corporation Bank</td>\n",
       "      <td>CORP0001317</td>\n",
       "      <td>5.201012e+14</td>\n",
       "      <td>6.376386e+09</td>\n",
       "      <td>2000</td>\n",
       "    </tr>\n",
       "    <tr>\n",
       "      <th>2</th>\n",
       "      <td>3.0</td>\n",
       "      <td>PURVESH SANDEEP KOTIAN</td>\n",
       "      <td>500066977</td>\n",
       "      <td>State Bank of India</td>\n",
       "      <td>SBIN0005087</td>\n",
       "      <td>3.563470e+10</td>\n",
       "      <td>9.870318e+09</td>\n",
       "      <td>3000</td>\n",
       "    </tr>\n",
       "    <tr>\n",
       "      <th>3</th>\n",
       "      <td>4.0</td>\n",
       "      <td>MAYANK MALOO</td>\n",
       "      <td>500075920</td>\n",
       "      <td>Syndicate Bank</td>\n",
       "      <td>SYNB0007391</td>\n",
       "      <td>7.391201e+13</td>\n",
       "      <td>9.101892e+09</td>\n",
       "      <td>2000</td>\n",
       "    </tr>\n",
       "    <tr>\n",
       "      <th>4</th>\n",
       "      <td>5.0</td>\n",
       "      <td>MANUJ</td>\n",
       "      <td>500055370</td>\n",
       "      <td>Andhra Bank</td>\n",
       "      <td>ANDB0002250</td>\n",
       "      <td>2.250101e+14</td>\n",
       "      <td>8.954477e+09</td>\n",
       "      <td>2000</td>\n",
       "    </tr>\n",
       "  </tbody>\n",
       "</table>\n",
       "</div>"
      ],
      "text/plain": [
       "   S.No.             Holder Name      SAPID            Bank Name    IFSC code  \\\n",
       "0    1.0        PIYUSH PRAJAPATI  500069787       Bank of Baroda  BARB0SHACOL   \n",
       "1    2.0             LOVE SHARMA  500076077     Corporation Bank  CORP0001317   \n",
       "2    3.0  PURVESH SANDEEP KOTIAN  500066977  State Bank of India  SBIN0005087   \n",
       "3    4.0            MAYANK MALOO  500075920       Syndicate Bank  SYNB0007391   \n",
       "4    5.0                   MANUJ  500055370          Andhra Bank  ANDB0002250   \n",
       "\n",
       "    Account No.     Phone No. Amount (Rs.)  \n",
       "0  5.179010e+13  9.968996e+09         3000  \n",
       "1  5.201012e+14  6.376386e+09         2000  \n",
       "2  3.563470e+10  9.870318e+09         3000  \n",
       "3  7.391201e+13  9.101892e+09         2000  \n",
       "4  2.250101e+14  8.954477e+09         2000  "
      ]
     },
     "execution_count": 4,
     "metadata": {},
     "output_type": "execute_result"
    }
   ],
   "source": [
    "df.head()"
   ]
  },
  {
   "cell_type": "markdown",
   "metadata": {},
   "source": [
    "## loc"
   ]
  },
  {
   "cell_type": "markdown",
   "metadata": {},
   "source": [
    "loc is primarily label based when 2 arguments are used,you use column header and row indexes to select the data you want.  \n",
    "loc can also take an integer as a row or column number.  \n",
    "loc will return KeyError if the requested items are not found."
   ]
  },
  {
   "cell_type": "code",
   "execution_count": 5,
   "metadata": {},
   "outputs": [
    {
     "data": {
      "text/plain": [
       "'PIYUSH PRAJAPATI'"
      ]
     },
     "execution_count": 5,
     "metadata": {},
     "output_type": "execute_result"
    }
   ],
   "source": [
    "df.loc[0,'Holder Name']"
   ]
  },
  {
   "cell_type": "code",
   "execution_count": 6,
   "metadata": {},
   "outputs": [
    {
     "data": {
      "text/plain": [
       "'Corporation Bank'"
      ]
     },
     "execution_count": 6,
     "metadata": {},
     "output_type": "execute_result"
    }
   ],
   "source": [
    "df.loc[1,'Bank Name']"
   ]
  },
  {
   "cell_type": "markdown",
   "metadata": {},
   "source": [
    "## iloc"
   ]
  },
  {
   "cell_type": "markdown",
   "metadata": {},
   "source": [
    "iloc is integer based.  \n",
    "You use column numbers and row numbers to get row numbers to get rows or columns at a particular positions in the data frame.  \n",
    "iloc will return an IndexError if the requested indexer is out-of-bounds."
   ]
  },
  {
   "cell_type": "code",
   "execution_count": 8,
   "metadata": {},
   "outputs": [
    {
     "data": {
      "text/plain": [
       "'PIYUSH PRAJAPATI'"
      ]
     },
     "execution_count": 8,
     "metadata": {},
     "output_type": "execute_result"
    }
   ],
   "source": [
    "df.iloc[0,1]"
   ]
  },
  {
   "cell_type": "code",
   "execution_count": 9,
   "metadata": {},
   "outputs": [
    {
     "data": {
      "text/plain": [
       "500076077"
      ]
     },
     "execution_count": 9,
     "metadata": {},
     "output_type": "execute_result"
    }
   ],
   "source": [
    "df.iloc[1,2]"
   ]
  },
  {
   "cell_type": "markdown",
   "metadata": {},
   "source": [
    "## ix"
   ]
  },
  {
   "cell_type": "markdown",
   "metadata": {},
   "source": [
    "By default ix looks for a label, if ix doesn't find a label,it will use an integer.  \n",
    "This means you can select data by using either column numbers and row numbers or column headers and row numbers using ix."
   ]
  },
  {
   "cell_type": "code",
   "execution_count": 15,
   "metadata": {},
   "outputs": [
    {
     "name": "stderr",
     "output_type": "stream",
     "text": [
      "C:\\Users\\500060783\\AppData\\Local\\Continuum\\anaconda3\\lib\\site-packages\\ipykernel_launcher.py:1: DeprecationWarning: \n",
      ".ix is deprecated. Please use\n",
      ".loc for label based indexing or\n",
      ".iloc for positional indexing\n",
      "\n",
      "See the documentation here:\n",
      "http://pandas.pydata.org/pandas-docs/stable/indexing.html#ix-indexer-is-deprecated\n",
      "  \"\"\"Entry point for launching an IPython kernel.\n"
     ]
    },
    {
     "data": {
      "text/plain": [
       "'LOVE SHARMA'"
      ]
     },
     "execution_count": 15,
     "metadata": {},
     "output_type": "execute_result"
    }
   ],
   "source": [
    "df.ix[1,'Holder Name']"
   ]
  },
  {
   "cell_type": "markdown",
   "metadata": {},
   "source": [
    "### Using loc and iloc slicing:"
   ]
  },
  {
   "cell_type": "markdown",
   "metadata": {},
   "source": [
    "Creating a new dataframe with loc slicing."
   ]
  },
  {
   "cell_type": "code",
   "execution_count": 16,
   "metadata": {},
   "outputs": [],
   "source": [
    "z=df.loc[0:2,'Holder Name':'Bank Name']"
   ]
  },
  {
   "cell_type": "code",
   "execution_count": 17,
   "metadata": {},
   "outputs": [
    {
     "data": {
      "text/html": [
       "<div>\n",
       "<style scoped>\n",
       "    .dataframe tbody tr th:only-of-type {\n",
       "        vertical-align: middle;\n",
       "    }\n",
       "\n",
       "    .dataframe tbody tr th {\n",
       "        vertical-align: top;\n",
       "    }\n",
       "\n",
       "    .dataframe thead th {\n",
       "        text-align: right;\n",
       "    }\n",
       "</style>\n",
       "<table border=\"1\" class=\"dataframe\">\n",
       "  <thead>\n",
       "    <tr style=\"text-align: right;\">\n",
       "      <th></th>\n",
       "      <th>Holder Name</th>\n",
       "      <th>SAPID</th>\n",
       "      <th>Bank Name</th>\n",
       "    </tr>\n",
       "  </thead>\n",
       "  <tbody>\n",
       "    <tr>\n",
       "      <th>0</th>\n",
       "      <td>PIYUSH PRAJAPATI</td>\n",
       "      <td>500069787</td>\n",
       "      <td>Bank of Baroda</td>\n",
       "    </tr>\n",
       "    <tr>\n",
       "      <th>1</th>\n",
       "      <td>LOVE SHARMA</td>\n",
       "      <td>500076077</td>\n",
       "      <td>Corporation Bank</td>\n",
       "    </tr>\n",
       "    <tr>\n",
       "      <th>2</th>\n",
       "      <td>PURVESH SANDEEP KOTIAN</td>\n",
       "      <td>500066977</td>\n",
       "      <td>State Bank of India</td>\n",
       "    </tr>\n",
       "  </tbody>\n",
       "</table>\n",
       "</div>"
      ],
      "text/plain": [
       "              Holder Name      SAPID            Bank Name\n",
       "0        PIYUSH PRAJAPATI  500069787       Bank of Baroda\n",
       "1             LOVE SHARMA  500076077     Corporation Bank\n",
       "2  PURVESH SANDEEP KOTIAN  500066977  State Bank of India"
      ]
     },
     "execution_count": 17,
     "metadata": {},
     "output_type": "execute_result"
    }
   ],
   "source": [
    "z"
   ]
  },
  {
   "cell_type": "markdown",
   "metadata": {},
   "source": [
    "Creating a new dataframe with iloc slicing"
   ]
  },
  {
   "cell_type": "code",
   "execution_count": 18,
   "metadata": {},
   "outputs": [],
   "source": [
    "z=df.iloc[0:2,0:3]"
   ]
  },
  {
   "cell_type": "code",
   "execution_count": 20,
   "metadata": {},
   "outputs": [
    {
     "data": {
      "text/html": [
       "<div>\n",
       "<style scoped>\n",
       "    .dataframe tbody tr th:only-of-type {\n",
       "        vertical-align: middle;\n",
       "    }\n",
       "\n",
       "    .dataframe tbody tr th {\n",
       "        vertical-align: top;\n",
       "    }\n",
       "\n",
       "    .dataframe thead th {\n",
       "        text-align: right;\n",
       "    }\n",
       "</style>\n",
       "<table border=\"1\" class=\"dataframe\">\n",
       "  <thead>\n",
       "    <tr style=\"text-align: right;\">\n",
       "      <th></th>\n",
       "      <th>S.No.</th>\n",
       "      <th>Holder Name</th>\n",
       "      <th>SAPID</th>\n",
       "    </tr>\n",
       "  </thead>\n",
       "  <tbody>\n",
       "    <tr>\n",
       "      <th>0</th>\n",
       "      <td>1.0</td>\n",
       "      <td>PIYUSH PRAJAPATI</td>\n",
       "      <td>500069787</td>\n",
       "    </tr>\n",
       "    <tr>\n",
       "      <th>1</th>\n",
       "      <td>2.0</td>\n",
       "      <td>LOVE SHARMA</td>\n",
       "      <td>500076077</td>\n",
       "    </tr>\n",
       "  </tbody>\n",
       "</table>\n",
       "</div>"
      ],
      "text/plain": [
       "   S.No.       Holder Name      SAPID\n",
       "0    1.0  PIYUSH PRAJAPATI  500069787\n",
       "1    2.0       LOVE SHARMA  500076077"
      ]
     },
     "execution_count": 20,
     "metadata": {},
     "output_type": "execute_result"
    }
   ],
   "source": [
    "z # In this we assign the first two rows and three columns to the variable z"
   ]
  },
  {
   "cell_type": "markdown",
   "metadata": {},
   "source": [
    "#### Working with and saving data in Pandas"
   ]
  },
  {
   "cell_type": "code",
   "execution_count": 24,
   "metadata": {},
   "outputs": [
    {
     "data": {
      "text/plain": [
       "array([3000, 2000, 1000, 'Total=Rs.17,000', nan], dtype=object)"
      ]
     },
     "execution_count": 24,
     "metadata": {},
     "output_type": "execute_result"
    }
   ],
   "source": [
    "df['Amount (Rs.)'].unique() # To find unique elements in Amount column"
   ]
  },
  {
   "cell_type": "code",
   "execution_count": 31,
   "metadata": {},
   "outputs": [
    {
     "data": {
      "text/plain": [
       "0     False\n",
       "1      True\n",
       "2      True\n",
       "3      True\n",
       "4      True\n",
       "5      True\n",
       "6      True\n",
       "7      True\n",
       "8      True\n",
       "9     False\n",
       "10    False\n",
       "11    False\n",
       "12    False\n",
       "13    False\n",
       "14    False\n",
       "15    False\n",
       "Name: S.No., dtype: bool"
      ]
     },
     "execution_count": 31,
     "metadata": {},
     "output_type": "execute_result"
    }
   ],
   "source": [
    "df['S.No.'] > 1.0 # To find out the s.no.>1.0"
   ]
  },
  {
   "cell_type": "code",
   "execution_count": 32,
   "metadata": {},
   "outputs": [],
   "source": [
    "df1=df[df['S.No.']>1.0]"
   ]
  },
  {
   "cell_type": "code",
   "execution_count": 33,
   "metadata": {},
   "outputs": [
    {
     "data": {
      "text/html": [
       "<div>\n",
       "<style scoped>\n",
       "    .dataframe tbody tr th:only-of-type {\n",
       "        vertical-align: middle;\n",
       "    }\n",
       "\n",
       "    .dataframe tbody tr th {\n",
       "        vertical-align: top;\n",
       "    }\n",
       "\n",
       "    .dataframe thead th {\n",
       "        text-align: right;\n",
       "    }\n",
       "</style>\n",
       "<table border=\"1\" class=\"dataframe\">\n",
       "  <thead>\n",
       "    <tr style=\"text-align: right;\">\n",
       "      <th></th>\n",
       "      <th>S.No.</th>\n",
       "      <th>Holder Name</th>\n",
       "      <th>SAPID</th>\n",
       "      <th>Bank Name</th>\n",
       "      <th>IFSC code</th>\n",
       "      <th>Account No.</th>\n",
       "      <th>Phone No.</th>\n",
       "      <th>Amount (Rs.)</th>\n",
       "    </tr>\n",
       "  </thead>\n",
       "  <tbody>\n",
       "    <tr>\n",
       "      <th>1</th>\n",
       "      <td>2.0</td>\n",
       "      <td>LOVE SHARMA</td>\n",
       "      <td>500076077</td>\n",
       "      <td>Corporation Bank</td>\n",
       "      <td>CORP0001317</td>\n",
       "      <td>5.201012e+14</td>\n",
       "      <td>6.376386e+09</td>\n",
       "      <td>2000</td>\n",
       "    </tr>\n",
       "    <tr>\n",
       "      <th>2</th>\n",
       "      <td>3.0</td>\n",
       "      <td>PURVESH SANDEEP KOTIAN</td>\n",
       "      <td>500066977</td>\n",
       "      <td>State Bank of India</td>\n",
       "      <td>SBIN0005087</td>\n",
       "      <td>3.563470e+10</td>\n",
       "      <td>9.870318e+09</td>\n",
       "      <td>3000</td>\n",
       "    </tr>\n",
       "    <tr>\n",
       "      <th>3</th>\n",
       "      <td>4.0</td>\n",
       "      <td>MAYANK MALOO</td>\n",
       "      <td>500075920</td>\n",
       "      <td>Syndicate Bank</td>\n",
       "      <td>SYNB0007391</td>\n",
       "      <td>7.391201e+13</td>\n",
       "      <td>9.101892e+09</td>\n",
       "      <td>2000</td>\n",
       "    </tr>\n",
       "    <tr>\n",
       "      <th>4</th>\n",
       "      <td>5.0</td>\n",
       "      <td>MANUJ</td>\n",
       "      <td>500055370</td>\n",
       "      <td>Andhra Bank</td>\n",
       "      <td>ANDB0002250</td>\n",
       "      <td>2.250101e+14</td>\n",
       "      <td>8.954477e+09</td>\n",
       "      <td>2000</td>\n",
       "    </tr>\n",
       "    <tr>\n",
       "      <th>5</th>\n",
       "      <td>6.0</td>\n",
       "      <td>SAURABH AGARWAL</td>\n",
       "      <td>500060783</td>\n",
       "      <td>State Bank of India</td>\n",
       "      <td>SBIN0005556</td>\n",
       "      <td>3.697483e+10</td>\n",
       "      <td>7.088118e+09</td>\n",
       "      <td>2000</td>\n",
       "    </tr>\n",
       "    <tr>\n",
       "      <th>6</th>\n",
       "      <td>7.0</td>\n",
       "      <td>MUSKAAN MADAN</td>\n",
       "      <td>500068520</td>\n",
       "      <td>HDFC</td>\n",
       "      <td>HDFC0000854</td>\n",
       "      <td>5.010023e+13</td>\n",
       "      <td>7.455066e+09</td>\n",
       "      <td>1000</td>\n",
       "    </tr>\n",
       "    <tr>\n",
       "      <th>7</th>\n",
       "      <td>8.0</td>\n",
       "      <td>PRANAV SAXENA</td>\n",
       "      <td>500060865</td>\n",
       "      <td>Bank of India</td>\n",
       "      <td>BKID0009110</td>\n",
       "      <td>9.110101e+14</td>\n",
       "      <td>7.587504e+09</td>\n",
       "      <td>1000</td>\n",
       "    </tr>\n",
       "    <tr>\n",
       "      <th>8</th>\n",
       "      <td>9.0</td>\n",
       "      <td>OMEGA POWERTECH</td>\n",
       "      <td>500076693</td>\n",
       "      <td>PNB</td>\n",
       "      <td>PUNB0205100</td>\n",
       "      <td>2.051002e+15</td>\n",
       "      <td>9.312896e+09</td>\n",
       "      <td>1000</td>\n",
       "    </tr>\n",
       "  </tbody>\n",
       "</table>\n",
       "</div>"
      ],
      "text/plain": [
       "   S.No.             Holder Name      SAPID            Bank Name    IFSC code  \\\n",
       "1    2.0             LOVE SHARMA  500076077     Corporation Bank  CORP0001317   \n",
       "2    3.0  PURVESH SANDEEP KOTIAN  500066977  State Bank of India  SBIN0005087   \n",
       "3    4.0            MAYANK MALOO  500075920       Syndicate Bank  SYNB0007391   \n",
       "4    5.0                   MANUJ  500055370          Andhra Bank  ANDB0002250   \n",
       "5    6.0         SAURABH AGARWAL  500060783  State Bank of India  SBIN0005556   \n",
       "6    7.0           MUSKAAN MADAN  500068520                 HDFC  HDFC0000854   \n",
       "7    8.0           PRANAV SAXENA  500060865        Bank of India  BKID0009110   \n",
       "8    9.0         OMEGA POWERTECH  500076693                  PNB  PUNB0205100   \n",
       "\n",
       "    Account No.     Phone No. Amount (Rs.)  \n",
       "1  5.201012e+14  6.376386e+09         2000  \n",
       "2  3.563470e+10  9.870318e+09         3000  \n",
       "3  7.391201e+13  9.101892e+09         2000  \n",
       "4  2.250101e+14  8.954477e+09         2000  \n",
       "5  3.697483e+10  7.088118e+09         2000  \n",
       "6  5.010023e+13  7.455066e+09         1000  \n",
       "7  9.110101e+14  7.587504e+09         1000  \n",
       "8  2.051002e+15  9.312896e+09         1000  "
      ]
     },
     "execution_count": 33,
     "metadata": {},
     "output_type": "execute_result"
    }
   ],
   "source": [
    "df1"
   ]
  },
  {
   "cell_type": "code",
   "execution_count": 34,
   "metadata": {},
   "outputs": [],
   "source": [
    "df1.to_csv('new_details.csv') # To save as csv"
   ]
  },
  {
   "cell_type": "code",
   "execution_count": null,
   "metadata": {},
   "outputs": [],
   "source": []
  }
 ],
 "metadata": {
  "kernelspec": {
   "display_name": "Python 3",
   "language": "python",
   "name": "python3"
  },
  "language_info": {
   "codemirror_mode": {
    "name": "ipython",
    "version": 3
   },
   "file_extension": ".py",
   "mimetype": "text/x-python",
   "name": "python",
   "nbconvert_exporter": "python",
   "pygments_lexer": "ipython3",
   "version": "3.7.0"
  }
 },
 "nbformat": 4,
 "nbformat_minor": 2
}
